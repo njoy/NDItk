{
 "cells": [
  {
   "cell_type": "code",
   "execution_count": 1,
   "id": "f53a715b",
   "metadata": {},
   "outputs": [],
   "source": [
    "import os\n",
    "\n",
    "# a recursive function to find all files with a given extension in a directory\n",
    "def getFilesInFolder( directory, extension ) :\n",
    "\n",
    "    files = os.listdir( directory )\n",
    "    everything = list()\n",
    "\n",
    "    for entry in files :\n",
    "\n",
    "        file = os.path.join( directory, entry )\n",
    "\n",
    "        if os.path.isdir( file ) :\n",
    "\n",
    "            everything += getFilesInFolder( file, extension )\n",
    "\n",
    "        else :\n",
    "\n",
    "            everything.append( file )\n",
    "\n",
    "    return [ file for file in everything if file.endswith( extension ) ]"
   ]
  },
  {
   "cell_type": "code",
   "execution_count": 4,
   "id": "74836354",
   "metadata": {},
   "outputs": [
    {
     "name": "stdout",
     "output_type": "stream",
     "text": [
      "FAILED /Users/wim/Projects/libraries/ndi/mt80_30/t20/50118.851nm\n",
      "-------------------------\n",
      "   1 files\n",
      "   1 failed\n",
      "elapsed time = 0.000673 s\n",
      "-------------------------\n"
     ]
    }
   ],
   "source": [
    "import NDItk\n",
    "import time\n",
    "\n",
    "path = '/Users/wim/Projects/libraries/ndi/mt80_30'\n",
    "files = getFilesInFolder( path, '1001.851nm' )\n",
    "failed = []\n",
    "\n",
    "start = time.perf_counter()\n",
    "for file in files :\n",
    "\n",
    "    try :\n",
    "\n",
    "        table = NDItk.MultigroupTable.from_file( file )\n",
    "\n",
    "    except :\n",
    "\n",
    "        print( 'FAILED', file )\n",
    "        failed.append( file )\n",
    "\n",
    "end = time.perf_counter()\n",
    "\n",
    "print( '-------------------------' )\n",
    "print( '{:4} files'.format( len( files ) ) )\n",
    "print( '{:4} failed'.format( len( failed ) ) )\n",
    "print( 'elapsed time = {:.3} s'.format( end - start ) )\n",
    "print( '-------------------------' )"
   ]
  },
  {
   "cell_type": "code",
   "execution_count": null,
   "id": "9d108125",
   "metadata": {},
   "outputs": [],
   "source": []
  }
 ],
 "metadata": {
  "kernelspec": {
   "display_name": "Python 3",
   "language": "python",
   "name": "python3"
  },
  "language_info": {
   "codemirror_mode": {
    "name": "ipython",
    "version": 3
   },
   "file_extension": ".py",
   "mimetype": "text/x-python",
   "name": "python",
   "nbconvert_exporter": "python",
   "pygments_lexer": "ipython3",
   "version": "3.8.8"
  }
 },
 "nbformat": 4,
 "nbformat_minor": 5
}
