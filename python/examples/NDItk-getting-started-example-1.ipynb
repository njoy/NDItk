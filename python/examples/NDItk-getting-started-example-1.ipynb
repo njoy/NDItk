{
 "cells": [
  {
   "cell_type": "code",
   "execution_count": 1,
   "id": "f53a715b",
   "metadata": {},
   "outputs": [],
   "source": [
    "import os\n",
    "\n",
    "# a recursive function to find all files with a given extension in a directory\n",
    "def getFilesInFolder( directory, extension ) :\n",
    "\n",
    "    files = os.listdir( directory )\n",
    "    everything = list()\n",
    "\n",
    "    for entry in files :\n",
    "\n",
    "        file = os.path.join( directory, entry )\n",
    "\n",
    "        if os.path.isdir( file ) :\n",
    "\n",
    "            everything += getFilesInFolder( file, extension )\n",
    "\n",
    "        else :\n",
    "\n",
    "            everything.append( file )\n",
    "\n",
    "    return [ file for file in everything if file.endswith( extension ) ]"
   ]
  },
  {
   "cell_type": "code",
   "execution_count": 2,
   "id": "74836354",
   "metadata": {},
   "outputs": [
    {
     "name": "stdout",
     "output_type": "stream",
     "text": [
      "-------------------------\n",
      "13455 files\n",
      "   0 failed\n",
      "elapsed time = 5.79e+02 s\n",
      "-------------------------\n"
     ]
    }
   ],
   "source": [
    "import NDItk\n",
    "import time\n",
    "\n",
    "path = '/Users/wim/Projects/libraries/ndi/mt80'\n",
    "files = getFilesInFolder( path, 'nm' )\n",
    "failed = []\n",
    "\n",
    "start = time.perf_counter()\n",
    "for file in files :\n",
    "\n",
    "    try :\n",
    "\n",
    "        table = NDItk.MultigroupTable.from_file( file )\n",
    "\n",
    "    except :\n",
    "\n",
    "        print( 'FAILED', file )\n",
    "        failed.append( file )\n",
    "\n",
    "end = time.perf_counter()\n",
    "\n",
    "print( '-------------------------' )\n",
    "print( '{:4} files'.format( len( files ) ) )\n",
    "print( '{:4} failed'.format( len( failed ) ) )\n",
    "print( 'elapsed time = {:.3} s'.format( end - start ) )\n",
    "print( '-------------------------' )"
   ]
  },
  {
   "cell_type": "code",
   "execution_count": null,
   "id": "9d108125",
   "metadata": {},
   "outputs": [],
   "source": [
    "import NDItk\n",
    "table = NDItk.MultigroupTable.from_file( '/Users/wim/Projects/libraries/ndi/mt80_30/t22/38086.853nm' )"
   ]
  },
  {
   "cell_type": "code",
   "execution_count": null,
   "id": "3ed6d2e8",
   "metadata": {},
   "outputs": [],
   "source": []
  }
 ],
 "metadata": {
  "kernelspec": {
   "display_name": "Python 3",
   "language": "python",
   "name": "python3"
  },
  "language_info": {
   "codemirror_mode": {
    "name": "ipython",
    "version": 3
   },
   "file_extension": ".py",
   "mimetype": "text/x-python",
   "name": "python",
   "nbconvert_exporter": "python",
   "pygments_lexer": "ipython3",
   "version": "3.8.8"
  }
 },
 "nbformat": 4,
 "nbformat_minor": 5
}
